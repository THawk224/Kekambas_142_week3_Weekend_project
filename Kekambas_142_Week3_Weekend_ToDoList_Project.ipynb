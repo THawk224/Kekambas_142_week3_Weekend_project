{
 "cells": [
  {
   "cell_type": "markdown",
   "id": "9cc96c8d-f296-490e-9ae2-c900b5c24d0d",
   "metadata": {},
   "source": [
    "To-Do List app"
   ]
  },
  {
   "cell_type": "code",
   "execution_count": 1,
   "id": "c0f2e293-c819-431b-83d4-a73b2dfc9c03",
   "metadata": {},
   "outputs": [
    {
     "name": "stdout",
     "output_type": "stream",
     "text": [
      "To-Do List Manager\n",
      "1. Add a new task\n",
      "2. View all tasks\n",
      "3. Edit task completion status\n",
      "4. Delete a task\n",
      "5. Quit\n"
     ]
    },
    {
     "name": "stdin",
     "output_type": "stream",
     "text": [
      "Enter your choice:  1\n",
      "Enter task description:  Groceries\n"
     ]
    },
    {
     "name": "stdout",
     "output_type": "stream",
     "text": [
      "Task added successfully!\n",
      "To-Do List Manager\n",
      "1. Add a new task\n",
      "2. View all tasks\n",
      "3. Edit task completion status\n",
      "4. Delete a task\n",
      "5. Quit\n"
     ]
    },
    {
     "name": "stdin",
     "output_type": "stream",
     "text": [
      "Enter your choice:  1\n",
      "Enter task description:  Walk the dog\n"
     ]
    },
    {
     "name": "stdout",
     "output_type": "stream",
     "text": [
      "Task added successfully!\n",
      "To-Do List Manager\n",
      "1. Add a new task\n",
      "2. View all tasks\n",
      "3. Edit task completion status\n",
      "4. Delete a task\n",
      "5. Quit\n"
     ]
    },
    {
     "name": "stdin",
     "output_type": "stream",
     "text": [
      "Enter your choice:  1\n",
      "Enter task description:  Do homework\n"
     ]
    },
    {
     "name": "stdout",
     "output_type": "stream",
     "text": [
      "Task added successfully!\n",
      "To-Do List Manager\n",
      "1. Add a new task\n",
      "2. View all tasks\n",
      "3. Edit task completion status\n",
      "4. Delete a task\n",
      "5. Quit\n"
     ]
    },
    {
     "name": "stdin",
     "output_type": "stream",
     "text": [
      "Enter your choice:  1\n",
      "Enter task description:  Take out the garbage\n"
     ]
    },
    {
     "name": "stdout",
     "output_type": "stream",
     "text": [
      "Task added successfully!\n",
      "To-Do List Manager\n",
      "1. Add a new task\n",
      "2. View all tasks\n",
      "3. Edit task completion status\n",
      "4. Delete a task\n",
      "5. Quit\n"
     ]
    },
    {
     "name": "stdin",
     "output_type": "stream",
     "text": [
      "Enter your choice:  2\n"
     ]
    },
    {
     "name": "stdout",
     "output_type": "stream",
     "text": [
      "Task ID: 1\n",
      "Description: Groceries\n",
      "Status: Incomplete\n",
      "\n",
      "Task ID: 2\n",
      "Description: Walk the dog\n",
      "Status: Incomplete\n",
      "\n",
      "Task ID: 3\n",
      "Description: Do homework\n",
      "Status: Incomplete\n",
      "\n",
      "Task ID: 4\n",
      "Description: Take out the garbage\n",
      "Status: Incomplete\n",
      "\n",
      "To-Do List Manager\n",
      "1. Add a new task\n",
      "2. View all tasks\n",
      "3. Edit task completion status\n",
      "4. Delete a task\n",
      "5. Quit\n"
     ]
    },
    {
     "name": "stdin",
     "output_type": "stream",
     "text": [
      "Enter your choice:  3\n",
      "Enter task ID to edit status:  1\n",
      "Mark as completed? (y/n):  y\n"
     ]
    },
    {
     "name": "stdout",
     "output_type": "stream",
     "text": [
      "Task status updated!\n",
      "To-Do List Manager\n",
      "1. Add a new task\n",
      "2. View all tasks\n",
      "3. Edit task completion status\n",
      "4. Delete a task\n",
      "5. Quit\n"
     ]
    },
    {
     "name": "stdin",
     "output_type": "stream",
     "text": [
      "Enter your choice:  2\n"
     ]
    },
    {
     "name": "stdout",
     "output_type": "stream",
     "text": [
      "Task ID: 1\n",
      "Description: Groceries\n",
      "Status: Completed\n",
      "\n",
      "Task ID: 2\n",
      "Description: Walk the dog\n",
      "Status: Incomplete\n",
      "\n",
      "Task ID: 3\n",
      "Description: Do homework\n",
      "Status: Incomplete\n",
      "\n",
      "Task ID: 4\n",
      "Description: Take out the garbage\n",
      "Status: Incomplete\n",
      "\n",
      "To-Do List Manager\n",
      "1. Add a new task\n",
      "2. View all tasks\n",
      "3. Edit task completion status\n",
      "4. Delete a task\n",
      "5. Quit\n"
     ]
    },
    {
     "name": "stdin",
     "output_type": "stream",
     "text": [
      "Enter your choice:  5\n"
     ]
    },
    {
     "name": "stdout",
     "output_type": "stream",
     "text": [
      "Goodbye!\n"
     ]
    }
   ],
   "source": [
    "class Task:\n",
    "    \"\"\"\n",
    "    Represents an individual task with a unique ID, description, and completion status.\n",
    "    \"\"\"\n",
    "\n",
    "    def __init__(self, task_id, description, completed=False):\n",
    "        self.task_id = task_id5\n",
    "        self.description = description\n",
    "        self.completed = completed\n",
    "\n",
    "    def display_task(self):\n",
    "        \"\"\"\n",
    "        Display the task in a user-friendly format.\n",
    "        \"\"\"\n",
    "        status = \"Completed\" if self.completed else \"Incomplete\"\n",
    "        return f\"Task ID: {self.task_id}\\nDescription: {self.description}\\nStatus: {status}\"\n",
    "\n",
    "\n",
    "class ToDoList:\n",
    "    \"\"\"\n",
    "    Manages a list of tasks with methods for adding, viewing, editing, deleting tasks.\n",
    "    \"\"\"\n",
    "\n",
    "    def __init__(self):\n",
    "        self.tasks = []\n",
    "\n",
    "    def add_task(self, task):\n",
    "        \"\"\"\n",
    "        Add a new task to the to-do list.\n",
    "        \"\"\"\n",
    "        self.tasks.append(task)\n",
    "\n",
    "    def view_tasks(self):\n",
    "        \"\"\"\n",
    "        Display all tasks in the to-do list.\n",
    "        \"\"\"\n",
    "        for task in self.tasks:\n",
    "            print(task.display_task())\n",
    "            print()\n",
    "\n",
    "    def edit_task_status(self, task_id, completed):\n",
    "        \"\"\"\n",
    "        Edit the completion status of a task based on its ID.\n",
    "        \"\"\"\n",
    "        for task in self.tasks:\n",
    "            if task.task_id == task_id:\n",
    "                task.completed = completed\n",
    "                break\n",
    "\n",
    "    def delete_task(self, task_id):\n",
    "        \"\"\"\n",
    "        Delete a task from the to-do list based on its ID.\n",
    "        \"\"\"\n",
    "        self.tasks = [task for task in self.tasks if task.task_id != task_id]\n",
    "\n",
    "    def get_task_by_id(self, task_id):\n",
    "        \"\"\"\n",
    "        Retrieve a task from the to-do list based on its ID.\n",
    "        \"\"\"\n",
    "        for task in self.tasks:\n",
    "            if task.task_id == task_id:\n",
    "                return task\n",
    "        return None\n",
    "\n",
    "\n",
    "# Simple user interface for the To-Do List Manager\n",
    "todo_list = ToDoList()\n",
    "\n",
    "while True:\n",
    "    print(\"To-Do List Manager\")\n",
    "    print(\"1. Add a new task\")\n",
    "    print(\"2. View all tasks\")\n",
    "    print(\"3. Edit task completion status\")\n",
    "    print(\"4. Delete a task\")\n",
    "    print(\"5. Quit\")\n",
    "\n",
    "    choice = input(\"Enter your choice: \")\n",
    "\n",
    "    if choice == '1':\n",
    "        task_id = len(todo_list.tasks) + 1\n",
    "        description = input(\"Enter task description: \")\n",
    "        new_task = Task(task_id, description)\n",
    "        todo_list.add_task(new_task)\n",
    "        print(\"Task added successfully!\")\n",
    "    elif choice == '2':\n",
    "        todo_list.view_tasks()\n",
    "    elif choice == '3':\n",
    "        task_id = int(input(\"Enter task ID to edit status: \"))\n",
    "        completed = input(\"Mark as completed? (y/n): \").lower() == 'y'\n",
    "        todo_list.edit_task_status(task_id, completed)\n",
    "        print(\"Task status updated!\")\n",
    "    elif choice == '4':\n",
    "        task_id = int(input(\"Enter task ID to delete: \"))\n",
    "        todo_list.delete_task(task_id)\n",
    "        print(\"Task deleted successfully!\")\n",
    "    elif choice == '5':\n",
    "        print(\"Goodbye!\")\n",
    "        break\n",
    "    else:\n",
    "        print(\"Invalid choice. Please try again.\")\n"
   ]
  },
  {
   "cell_type": "code",
   "execution_count": null,
   "id": "db95e724-cfe3-4396-a153-dd787d23fb55",
   "metadata": {},
   "outputs": [],
   "source": []
  }
 ],
 "metadata": {
  "kernelspec": {
   "display_name": "Python 3 (ipykernel)",
   "language": "python",
   "name": "python3"
  },
  "language_info": {
   "codemirror_mode": {
    "name": "ipython",
    "version": 3
   },
   "file_extension": ".py",
   "mimetype": "text/x-python",
   "name": "python",
   "nbconvert_exporter": "python",
   "pygments_lexer": "ipython3",
   "version": "3.11.5"
  }
 },
 "nbformat": 4,
 "nbformat_minor": 5
}
